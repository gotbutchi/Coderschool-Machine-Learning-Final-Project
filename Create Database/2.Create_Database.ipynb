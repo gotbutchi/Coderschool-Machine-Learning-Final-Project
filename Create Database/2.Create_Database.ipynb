{
 "cells": [
  {
   "cell_type": "markdown",
   "metadata": {},
   "source": [
    "# Import Library"
   ]
  },
  {
   "cell_type": "code",
   "execution_count": 1,
   "metadata": {},
   "outputs": [],
   "source": [
    "import spotipy\n",
    "from spotipy.oauth2 import SpotifyClientCredentials\n",
    "import pandas as pd\n",
    "import seaborn as sns\n",
    "from datetime import datetime, timedelta\n",
    "from tqdm.notebook import tqdm\n",
    "import json\n",
    "\n",
    "# Creating DataBase functions\n",
    "import sqlite3\n",
    "from sqlite3 import Error\n",
    "\n",
    "import time\n",
    "import matplotlib.pyplot as plt\n",
    "\n",
    "from collections import Counter\n",
    "import warnings\n",
    "warnings.filterwarnings('ignore')"
   ]
  },
  {
   "cell_type": "markdown",
   "metadata": {},
   "source": [
    "# Set up Token\n"
   ]
  },
  {
   "cell_type": "code",
   "execution_count": 2,
   "metadata": {},
   "outputs": [],
   "source": [
    "client_id = 'YOUR_CLIENT_ID'\n",
    "client_secret = 'YOUR_CLIENT_SECRET'\n",
    "client_credentials_manager = SpotifyClientCredentials(client_id=client_id, client_secret=client_secret)\n",
    "sp = spotipy.Spotify(client_credentials_manager=client_credentials_manager)"
   ]
  },
  {
   "cell_type": "markdown",
   "metadata": {},
   "source": [
    "# Get Dataset"
   ]
  },
  {
   "cell_type": "code",
   "execution_count": 4,
   "metadata": {
    "collapsed": true,
    "jupyter": {
     "outputs_hidden": true
    }
   },
   "outputs": [],
   "source": [
    "#the dataset is too big to upload on github so there will be no corresponding folder\n",
    "df = pd.read_csv('../../spotify_playlists/spotify_dataset.csv',error_bad_lines=False,warn_bad_lines=False)\n",
    "# Rename columns\n",
    "df.rename(index=str, \n",
    "          columns={\n",
    "              ' \"artistname\"': \"artist\",\n",
    "              ' \"trackname\"': \"trackname\",\n",
    "              ' \"playlistname\"': \"playlistname\"},\n",
    "          inplace=True)\n"
   ]
  },
  {
   "cell_type": "code",
   "execution_count": null,
   "metadata": {},
   "outputs": [],
   "source": [
    "#Create User-Playlistname Column\n",
    "user_df['user_playlistname'] = user_df['user_id'] + '--' + user_df['playlistname']"
   ]
  },
  {
   "cell_type": "code",
   "execution_count": 6,
   "metadata": {},
   "outputs": [],
   "source": [
    "#get playlist's size\n",
    "user_df['playlist_size'] = user_df.groupby('user_playlistname')['user_playlistname'].transform('size')"
   ]
  },
  {
   "cell_type": "code",
   "execution_count": null,
   "metadata": {},
   "outputs": [],
   "source": [
    "#get playlist's position\n",
    "user_df['playlist_position'] = user_df.groupby('user_playlistname').cumcount(ascending=True)"
   ]
  },
  {
   "cell_type": "code",
   "execution_count": null,
   "metadata": {},
   "outputs": [],
   "source": [
    "# Only select playlists that have more than 10 and less than 50 songs\n",
    "user_df = user_df[user_df.playlist_size >= 10]\n",
    "user_df = user_df[user_df.playlist_size <= 50]\n",
    "user_df['user_playlistname'].nunique()"
   ]
  },
  {
   "cell_type": "code",
   "execution_count": 7,
   "metadata": {},
   "outputs": [],
   "source": [
    "#calculate the sum of null value in each row\n",
    "user_df['playlist_null_count'] = user_df.groupby('user_playlistname')['artist'].transform(lambda group: group.isnull().sum())\n",
    "#drop NAs\n",
    "user_df = user_df[user_df['playlist_null_count'] == 0].dropna()"
   ]
  },
  {
   "cell_type": "code",
   "execution_count": null,
   "metadata": {},
   "outputs": [],
   "source": [
    "#build search string\n",
    "user_df['search_string'] = user_df['artist'] + ' ' + user_df['trackname']\n",
    "user_df['search_string'].nunique()"
   ]
  },
  {
   "cell_type": "code",
   "execution_count": null,
   "metadata": {},
   "outputs": [],
   "source": [
    "all_tracks = user_df[['search_string']].drop_duplicates().reset_index(drop=True)\n",
    "all_tracks.to_csv('../../user_playlists.csv')"
   ]
  },
  {
   "cell_type": "markdown",
   "metadata": {},
   "source": [
    "# Creating database functions"
   ]
  },
  {
   "cell_type": "markdown",
   "metadata": {},
   "source": [
    "## Write some functions to create database table and insert values\n"
   ]
  },
  {
   "cell_type": "code",
   "execution_count": 5,
   "metadata": {},
   "outputs": [],
   "source": [
    "#create a database connection\n",
    "def create_connection(db_file):\n",
    "    \"\"\" create a database connection to the SQLite database\n",
    "        specified by db_file\n",
    "    :param db_file: database file\n",
    "    :return: Connection object or None\n",
    "    \"\"\"\n",
    "    conn = None\n",
    "    \n",
    "    try:\n",
    "        conn = sqlite3.connect(db_file)\n",
    "        return conn\n",
    "    except Error as err:\n",
    "        print(err)\n",
    " \n",
    "    return conn\n",
    "\n",
    "# Creating table function\n",
    "def create_table(conn, query):\n",
    "    \"\"\" create a table from the create_table_sql statement\n",
    "    :param conn: Connection object\n",
    "    :param query: a CREATE TABLE statement\n",
    "    :return:\n",
    "    \"\"\"\n",
    "    try:\n",
    "        c = conn.cursor()\n",
    "        c.execute(query)\n",
    "    except Error as err:\n",
    "        print('ERROR BY CREATE TABLE', err)\n",
    "\n",
    "# function to insert values        \n",
    "def insert_values(conn, query, values):\n",
    "    \"\"\" create a table from the create_table_sql statement\n",
    "    :param conn: Connection object\n",
    "    :param query: a CREATE TABLE statement\n",
    "    :return:\n",
    "    \"\"\"\n",
    "    try:\n",
    "        c = conn.cursor()\n",
    "        c.execute(query, values)\n",
    "    except Error as e:\n",
    "        pass"
   ]
  },
  {
   "cell_type": "markdown",
   "metadata": {},
   "source": [
    "## Create database for all tracks' ids"
   ]
  },
  {
   "cell_type": "code",
   "execution_count": 7,
   "metadata": {},
   "outputs": [],
   "source": [
    "def get_track_id(search_string):\n",
    "    try:\n",
    "        return sp.search(search_string,limit=1)['tracks']['items'][0]['id']\n",
    "    except:\n",
    "        return ''\n",
    "\n",
    "#this function creates database and inserts values. \n",
    "def get_playlist_id_to_db(offset):\n",
    "    #create db\n",
    "    db = 'Spotify.db'\n",
    "    create_table_query = \"\"\"\n",
    "                    CREATE TABLE IF NOT EXISTS all_song_ids (\n",
    "                        id INTEGER PRIMARY KEY AUTOINCREMENT,\n",
    "                        search_string VARCHAR(255),\n",
    "                        track_id VARCHAR(100)\n",
    "                    );\n",
    "                    \"\"\"\n",
    "    ## sql command for inserting values\n",
    "    insert_value_query = 'INSERT INTO all_song_ids (search_string, track_id) VALUES (?,?);'\n",
    "\n",
    "    start = 0\n",
    "    print(f'{offset*10000}-{offset*10000 + 10000}')\n",
    "    search_strings = all_tracks['search_string'][offset*10000:offset*10000 + 10000].tolist()\n",
    "    results = []\n",
    "    \n",
    "    # just going through the spotify object and retriving data.     \n",
    "    for i, search_string in tqdm(enumerate(search_strings)):\n",
    "        if i % 500 == 0:\n",
    "            print(i)\n",
    "        results.append(get_track_id(search_string))\n",
    "    print('Search string - ', len(results))\n",
    "    # creating a connection with database\n",
    "    conn = create_connection(db)\n",
    "    create_table(conn, create_table_query)\n",
    "    print('Create table')\n",
    "    # inserting values from the list\n",
    "    for search_string, result in zip(search_strings, results):\n",
    "        values = (search_string, result)\n",
    "        insert_values(conn, insert_value_query, values)\n",
    "        conn.commit()\n",
    "    conn.close()"
   ]
  },
  {
   "cell_type": "code",
   "execution_count": 8,
   "metadata": {},
   "outputs": [],
   "source": [
    "all_tracks = pd.read_csv('../all_tracks.csv')"
   ]
  },
  {
   "cell_type": "code",
   "execution_count": 9,
   "metadata": {},
   "outputs": [
    {
     "data": {
      "text/html": [
       "<div>\n",
       "<style scoped>\n",
       "    .dataframe tbody tr th:only-of-type {\n",
       "        vertical-align: middle;\n",
       "    }\n",
       "\n",
       "    .dataframe tbody tr th {\n",
       "        vertical-align: top;\n",
       "    }\n",
       "\n",
       "    .dataframe thead th {\n",
       "        text-align: right;\n",
       "    }\n",
       "</style>\n",
       "<table border=\"1\" class=\"dataframe\">\n",
       "  <thead>\n",
       "    <tr style=\"text-align: right;\">\n",
       "      <th></th>\n",
       "      <th>search_string</th>\n",
       "    </tr>\n",
       "  </thead>\n",
       "  <tbody>\n",
       "    <tr>\n",
       "      <th>0</th>\n",
       "      <td>Noah And The Whale 5 Years Time</td>\n",
       "    </tr>\n",
       "    <tr>\n",
       "      <th>1</th>\n",
       "      <td>Noel Gallagher's High Flying Birds AKA... What...</td>\n",
       "    </tr>\n",
       "    <tr>\n",
       "      <th>2</th>\n",
       "      <td>Pearl Jam Alive</td>\n",
       "    </tr>\n",
       "    <tr>\n",
       "      <th>3</th>\n",
       "      <td>Tom Petty And The Heartbreakers American Girl</td>\n",
       "    </tr>\n",
       "    <tr>\n",
       "      <th>4</th>\n",
       "      <td>Bruce Springsteen Atlantic City</td>\n",
       "    </tr>\n",
       "  </tbody>\n",
       "</table>\n",
       "</div>"
      ],
      "text/plain": [
       "                                       search_string\n",
       "0                    Noah And The Whale 5 Years Time\n",
       "1  Noel Gallagher's High Flying Birds AKA... What...\n",
       "2                                    Pearl Jam Alive\n",
       "3      Tom Petty And The Heartbreakers American Girl\n",
       "4                    Bruce Springsteen Atlantic City"
      ]
     },
     "execution_count": 9,
     "metadata": {},
     "output_type": "execute_result"
    }
   ],
   "source": [
    "all_tracks.head()"
   ]
  },
  {
   "cell_type": "code",
   "execution_count": 10,
   "metadata": {},
   "outputs": [
    {
     "name": "stdout",
     "output_type": "stream",
     "text": [
      "440000-450000\n"
     ]
    },
    {
     "data": {
      "application/vnd.jupyter.widget-view+json": {
       "model_id": "5c1febe2c02140d3a3f9679e97e0b061",
       "version_major": 2,
       "version_minor": 0
      },
      "text/plain": [
       "HBox(children=(FloatProgress(value=1.0, bar_style='info', max=1.0), HTML(value='')))"
      ]
     },
     "metadata": {},
     "output_type": "display_data"
    },
    {
     "name": "stdout",
     "output_type": "stream",
     "text": [
      "0\n",
      "500\n",
      "1000\n",
      "1500\n",
      "2000\n",
      "2500\n",
      "3000\n",
      "3500\n",
      "4000\n",
      "4500\n",
      "5000\n",
      "5500\n",
      "6000\n",
      "6500\n",
      "7000\n",
      "7500\n",
      "8000\n",
      "8500\n",
      "9000\n",
      "9500\n",
      "\n",
      "Search string -  10000\n",
      "Create table\n",
      "450000-460000\n"
     ]
    },
    {
     "data": {
      "application/vnd.jupyter.widget-view+json": {
       "model_id": "32dba37227e7432b840e83ac684e58bb",
       "version_major": 2,
       "version_minor": 0
      },
      "text/plain": [
       "HBox(children=(FloatProgress(value=1.0, bar_style='info', max=1.0), HTML(value='')))"
      ]
     },
     "metadata": {},
     "output_type": "display_data"
    },
    {
     "name": "stdout",
     "output_type": "stream",
     "text": [
      "0\n",
      "500\n",
      "1000\n",
      "1500\n",
      "2000\n",
      "2500\n",
      "3000\n",
      "3500\n",
      "4000\n",
      "4500\n",
      "5000\n",
      "5500\n",
      "6000\n",
      "6500\n",
      "7000\n",
      "7500\n",
      "8000\n",
      "8500\n",
      "9000\n",
      "9500\n",
      "\n",
      "Search string -  10000\n",
      "Create table\n",
      "460000-470000\n"
     ]
    },
    {
     "data": {
      "application/vnd.jupyter.widget-view+json": {
       "model_id": "5bb12ad2809c466496a6431b120a7450",
       "version_major": 2,
       "version_minor": 0
      },
      "text/plain": [
       "HBox(children=(FloatProgress(value=1.0, bar_style='info', max=1.0), HTML(value='')))"
      ]
     },
     "metadata": {},
     "output_type": "display_data"
    },
    {
     "name": "stdout",
     "output_type": "stream",
     "text": [
      "0\n",
      "500\n",
      "1000\n",
      "1500\n",
      "2000\n",
      "2500\n",
      "3000\n",
      "3500\n",
      "4000\n",
      "4500\n",
      "5000\n",
      "5500\n",
      "6000\n",
      "6500\n",
      "7000\n",
      "7500\n",
      "8000\n",
      "8500\n",
      "9000\n",
      "9500\n",
      "\n",
      "Search string -  10000\n",
      "Create table\n",
      "470000-480000\n"
     ]
    },
    {
     "data": {
      "application/vnd.jupyter.widget-view+json": {
       "model_id": "08f6d8b0fb7f4b46bc5c1886082ff639",
       "version_major": 2,
       "version_minor": 0
      },
      "text/plain": [
       "HBox(children=(FloatProgress(value=1.0, bar_style='info', max=1.0), HTML(value='')))"
      ]
     },
     "metadata": {},
     "output_type": "display_data"
    },
    {
     "name": "stdout",
     "output_type": "stream",
     "text": [
      "0\n",
      "500\n",
      "1000\n",
      "1500\n",
      "2000\n",
      "2500\n",
      "3000\n",
      "3500\n",
      "4000\n",
      "4500\n",
      "5000\n",
      "5500\n",
      "6000\n",
      "6500\n",
      "7000\n",
      "7500\n",
      "8000\n",
      "8500\n",
      "9000\n",
      "9500\n",
      "\n",
      "Search string -  10000\n",
      "Create table\n",
      "480000-490000\n"
     ]
    },
    {
     "data": {
      "application/vnd.jupyter.widget-view+json": {
       "model_id": "9a610d0e02f04d63ade450f0e1924302",
       "version_major": 2,
       "version_minor": 0
      },
      "text/plain": [
       "HBox(children=(FloatProgress(value=1.0, bar_style='info', max=1.0), HTML(value='')))"
      ]
     },
     "metadata": {},
     "output_type": "display_data"
    },
    {
     "name": "stdout",
     "output_type": "stream",
     "text": [
      "0\n",
      "500\n",
      "1000\n",
      "1500\n",
      "2000\n",
      "2500\n",
      "3000\n",
      "3500\n",
      "4000\n",
      "4500\n",
      "5000\n",
      "5500\n",
      "6000\n",
      "6500\n",
      "7000\n",
      "7500\n",
      "8000\n",
      "8500\n",
      "9000\n",
      "9500\n",
      "\n",
      "Search string -  10000\n",
      "Create table\n",
      "490000-500000\n"
     ]
    },
    {
     "data": {
      "application/vnd.jupyter.widget-view+json": {
       "model_id": "9e9d583eed054f3c8ae869d4b67691c7",
       "version_major": 2,
       "version_minor": 0
      },
      "text/plain": [
       "HBox(children=(FloatProgress(value=1.0, bar_style='info', max=1.0), HTML(value='')))"
      ]
     },
     "metadata": {},
     "output_type": "display_data"
    },
    {
     "name": "stdout",
     "output_type": "stream",
     "text": [
      "0\n",
      "500\n",
      "1000\n",
      "1500\n",
      "2000\n",
      "2500\n",
      "3000\n",
      "3500\n",
      "4000\n",
      "4500\n",
      "5000\n",
      "5500\n",
      "6000\n",
      "6500\n",
      "7000\n",
      "7500\n",
      "8000\n",
      "8500\n",
      "9000\n",
      "9500\n",
      "\n",
      "Search string -  10000\n",
      "Create table\n",
      "Wall time: 1h 59min 15s\n"
     ]
    }
   ],
   "source": [
    "%%time\n",
    "## sql_command for creating table. \n",
    "create_table_query = \"\"\"\n",
    "                    CREATE TABLE IF NOT EXISTS all_song_ids (\n",
    "                        id INTEGER PRIMARY KEY AUTOINCREMENT,\n",
    "                        search_string VARCHAR(255),\n",
    "                        track_id VARCHAR(100)\n",
    "                    );\n",
    "                    \"\"\"\n",
    "\n",
    "## sql command for inserting values\n",
    "insert_value_query = 'INSERT INTO all_song_ids (search_string, track_id) VALUES (?,?);'\n",
    "\n",
    "## this function creates database and inserts values. \n",
    "# start from 40\n",
    "for i in range(44, 50):\n",
    "    get_playlist_id_to_db(i)  # offset = 50000"
   ]
  },
  {
   "cell_type": "code",
   "execution_count": 10,
   "metadata": {},
   "outputs": [
    {
     "name": "stdout",
     "output_type": "stream",
     "text": [
      "Wall time: 884 ms\n"
     ]
    }
   ],
   "source": [
    "# %%time\n",
    "# from concurrent.futures import as_completed, ProcessPoolExecutor\n",
    "\n",
    "# offsets = [i for i in range(40,44)]\n",
    "# with ProcessPoolExecutor(max_workers=4) as executor:\n",
    "#     executor.map(get_playlist_id_to_db, offsets)"
   ]
  },
  {
   "cell_type": "code",
   "execution_count": null,
   "metadata": {},
   "outputs": [],
   "source": [
    "#../../track_ids_csv/track_id-0-5000.csv"
   ]
  },
  {
   "cell_type": "code",
   "execution_count": 444,
   "metadata": {},
   "outputs": [
    {
     "output_type": "execute_result",
     "data": {
      "text/plain": "                                            search_string  \\\n0                         Noah And The Whale 5 Years Time   \n1       Noel Gallagher's High Flying Birds AKA... What...   \n2                                         Pearl Jam Alive   \n3           Tom Petty And The Heartbreakers American Girl   \n4                         Bruce Springsteen Atlantic City   \n...                                                   ...   \n655095                     Aly Tejas Nathalie - Adage 6/8   \n655096             Aly Tejas Pirouettes 4/4 - Bonus Track   \n655097                         Aly Tejas Port De Bras 3/4   \n655098               Aly Tejas Rond De Jambe En L’air 3/4   \n655099                  Aly Tejas Tendu 4/4 - Bonus Track   \n\n                      track_id  \n0       1KlDcHrlDPUJJPmMup3tUp  \n1       5mljJfOTZR3nF4ExmRLTjv  \n2       1L94M3KIu7QluZe63g64rv  \n3       7MRyJPksH3G2cXHN8UKYzP  \n4       1Vp8U39YNsDfd6yVuaUq12  \n...                        ...  \n655095  0KyTcSml8gfHIsO2OOQMmj  \n655096  7KcaSZjYaEeLLqO1ccc6rW  \n655097  6S0pEd8Ob5TsHFR8ZkSFJ5  \n655098  0dN2zVsBrsvUdPvV5sV6sg  \n655099  2NPSxd79oEvGdFjFczVXJ9  \n\n[655100 rows x 2 columns]",
      "text/html": "<div>\n<style scoped>\n    .dataframe tbody tr th:only-of-type {\n        vertical-align: middle;\n    }\n\n    .dataframe tbody tr th {\n        vertical-align: top;\n    }\n\n    .dataframe thead th {\n        text-align: right;\n    }\n</style>\n<table border=\"1\" class=\"dataframe\">\n  <thead>\n    <tr style=\"text-align: right;\">\n      <th></th>\n      <th>search_string</th>\n      <th>track_id</th>\n    </tr>\n  </thead>\n  <tbody>\n    <tr>\n      <th>0</th>\n      <td>Noah And The Whale 5 Years Time</td>\n      <td>1KlDcHrlDPUJJPmMup3tUp</td>\n    </tr>\n    <tr>\n      <th>1</th>\n      <td>Noel Gallagher's High Flying Birds AKA... What...</td>\n      <td>5mljJfOTZR3nF4ExmRLTjv</td>\n    </tr>\n    <tr>\n      <th>2</th>\n      <td>Pearl Jam Alive</td>\n      <td>1L94M3KIu7QluZe63g64rv</td>\n    </tr>\n    <tr>\n      <th>3</th>\n      <td>Tom Petty And The Heartbreakers American Girl</td>\n      <td>7MRyJPksH3G2cXHN8UKYzP</td>\n    </tr>\n    <tr>\n      <th>4</th>\n      <td>Bruce Springsteen Atlantic City</td>\n      <td>1Vp8U39YNsDfd6yVuaUq12</td>\n    </tr>\n    <tr>\n      <th>...</th>\n      <td>...</td>\n      <td>...</td>\n    </tr>\n    <tr>\n      <th>655095</th>\n      <td>Aly Tejas Nathalie - Adage 6/8</td>\n      <td>0KyTcSml8gfHIsO2OOQMmj</td>\n    </tr>\n    <tr>\n      <th>655096</th>\n      <td>Aly Tejas Pirouettes 4/4 - Bonus Track</td>\n      <td>7KcaSZjYaEeLLqO1ccc6rW</td>\n    </tr>\n    <tr>\n      <th>655097</th>\n      <td>Aly Tejas Port De Bras 3/4</td>\n      <td>6S0pEd8Ob5TsHFR8ZkSFJ5</td>\n    </tr>\n    <tr>\n      <th>655098</th>\n      <td>Aly Tejas Rond De Jambe En L’air 3/4</td>\n      <td>0dN2zVsBrsvUdPvV5sV6sg</td>\n    </tr>\n    <tr>\n      <th>655099</th>\n      <td>Aly Tejas Tendu 4/4 - Bonus Track</td>\n      <td>2NPSxd79oEvGdFjFczVXJ9</td>\n    </tr>\n  </tbody>\n</table>\n<p>655100 rows × 2 columns</p>\n</div>"
     },
     "metadata": {},
     "execution_count": 444
    }
   ],
   "source": [
    "# final_df = pd.concat([final_df,track_df]).reset_index(drop=True)\n",
    "final_df"
   ]
  },
  {
   "cell_type": "code",
   "execution_count": 445,
   "metadata": {},
   "outputs": [],
   "source": [
    "final_df.to_csv('../../track_ids_csv/track_id.csv')"
   ]
  },
  {
   "cell_type": "code",
   "execution_count": 447,
   "metadata": {},
   "outputs": [
    {
     "output_type": "execute_result",
     "data": {
      "text/plain": "                                            search_string  \\\n0                         Noah And The Whale 5 Years Time   \n1       Noel Gallagher's High Flying Birds AKA... What...   \n2                                         Pearl Jam Alive   \n3           Tom Petty And The Heartbreakers American Girl   \n4                         Bruce Springsteen Atlantic City   \n...                                                   ...   \n655095                     Aly Tejas Nathalie - Adage 6/8   \n655096             Aly Tejas Pirouettes 4/4 - Bonus Track   \n655097                         Aly Tejas Port De Bras 3/4   \n655098               Aly Tejas Rond De Jambe En L’air 3/4   \n655099                  Aly Tejas Tendu 4/4 - Bonus Track   \n\n                      track_id  \n0       1KlDcHrlDPUJJPmMup3tUp  \n1       5mljJfOTZR3nF4ExmRLTjv  \n2       1L94M3KIu7QluZe63g64rv  \n3       7MRyJPksH3G2cXHN8UKYzP  \n4       1Vp8U39YNsDfd6yVuaUq12  \n...                        ...  \n655095  0KyTcSml8gfHIsO2OOQMmj  \n655096  7KcaSZjYaEeLLqO1ccc6rW  \n655097  6S0pEd8Ob5TsHFR8ZkSFJ5  \n655098  0dN2zVsBrsvUdPvV5sV6sg  \n655099  2NPSxd79oEvGdFjFczVXJ9  \n\n[644982 rows x 2 columns]",
      "text/html": "<div>\n<style scoped>\n    .dataframe tbody tr th:only-of-type {\n        vertical-align: middle;\n    }\n\n    .dataframe tbody tr th {\n        vertical-align: top;\n    }\n\n    .dataframe thead th {\n        text-align: right;\n    }\n</style>\n<table border=\"1\" class=\"dataframe\">\n  <thead>\n    <tr style=\"text-align: right;\">\n      <th></th>\n      <th>search_string</th>\n      <th>track_id</th>\n    </tr>\n  </thead>\n  <tbody>\n    <tr>\n      <th>0</th>\n      <td>Noah And The Whale 5 Years Time</td>\n      <td>1KlDcHrlDPUJJPmMup3tUp</td>\n    </tr>\n    <tr>\n      <th>1</th>\n      <td>Noel Gallagher's High Flying Birds AKA... What...</td>\n      <td>5mljJfOTZR3nF4ExmRLTjv</td>\n    </tr>\n    <tr>\n      <th>2</th>\n      <td>Pearl Jam Alive</td>\n      <td>1L94M3KIu7QluZe63g64rv</td>\n    </tr>\n    <tr>\n      <th>3</th>\n      <td>Tom Petty And The Heartbreakers American Girl</td>\n      <td>7MRyJPksH3G2cXHN8UKYzP</td>\n    </tr>\n    <tr>\n      <th>4</th>\n      <td>Bruce Springsteen Atlantic City</td>\n      <td>1Vp8U39YNsDfd6yVuaUq12</td>\n    </tr>\n    <tr>\n      <th>...</th>\n      <td>...</td>\n      <td>...</td>\n    </tr>\n    <tr>\n      <th>655095</th>\n      <td>Aly Tejas Nathalie - Adage 6/8</td>\n      <td>0KyTcSml8gfHIsO2OOQMmj</td>\n    </tr>\n    <tr>\n      <th>655096</th>\n      <td>Aly Tejas Pirouettes 4/4 - Bonus Track</td>\n      <td>7KcaSZjYaEeLLqO1ccc6rW</td>\n    </tr>\n    <tr>\n      <th>655097</th>\n      <td>Aly Tejas Port De Bras 3/4</td>\n      <td>6S0pEd8Ob5TsHFR8ZkSFJ5</td>\n    </tr>\n    <tr>\n      <th>655098</th>\n      <td>Aly Tejas Rond De Jambe En L’air 3/4</td>\n      <td>0dN2zVsBrsvUdPvV5sV6sg</td>\n    </tr>\n    <tr>\n      <th>655099</th>\n      <td>Aly Tejas Tendu 4/4 - Bonus Track</td>\n      <td>2NPSxd79oEvGdFjFczVXJ9</td>\n    </tr>\n  </tbody>\n</table>\n<p>644982 rows × 2 columns</p>\n</div>"
     },
     "metadata": {},
     "execution_count": 447
    }
   ],
   "source": [
    "non_duplicate_track_id = final_df.drop_duplicates()\n",
    "non_duplicate_track_id"
   ]
  },
  {
   "cell_type": "code",
   "execution_count": 448,
   "metadata": {},
   "outputs": [],
   "source": [
    "non_duplicate_track_id.to_csv('../../track_ids_csv/non_duplicate_track_id.csv')"
   ]
  },
  {
   "cell_type": "markdown",
   "metadata": {},
   "source": [
    "## Create database for all tracks' metadata based on the track's id"
   ]
  },
  {
   "cell_type": "code",
   "execution_count": 6,
   "metadata": {},
   "outputs": [
    {
     "output_type": "execute_result",
     "data": {
      "text/plain": "    Unnamed: 0                                      search_string  \\\n0            0                    Noah And The Whale 5 Years Time   \n1            1  Noel Gallagher's High Flying Birds AKA... What...   \n2            2                                    Pearl Jam Alive   \n3            3      Tom Petty And The Heartbreakers American Girl   \n4            4                    Bruce Springsteen Atlantic City   \n5            5                             Madness Baggy Trousers   \n6            6                                    Pearl Jam Black   \n7            7                      Bruce Springsteen Born to Run   \n8            8                              Spector Chevy Thunder   \n9            9                             Miles Kane Come Closer   \n10          10             Bruce Springsteen Death To My Hometown   \n11          11                                Pearl Jam Even Flow   \n12          12  Noel Gallagher's High Flying Birds Everybody's...   \n13          13                        Miles Kane First of My Kind   \n14          14                             Tom Petty Free Fallin'   \n\n                  track_id  \n0   1KlDcHrlDPUJJPmMup3tUp  \n1   5mljJfOTZR3nF4ExmRLTjv  \n2   1L94M3KIu7QluZe63g64rv  \n3   7MRyJPksH3G2cXHN8UKYzP  \n4   1Vp8U39YNsDfd6yVuaUq12  \n5   3Sbnhrpec0ULbeWBsA6GS6  \n6   5Xak5fmy089t0FYmh3VJiY  \n7   6hTcuIQa0sxrrByu9wTD7s  \n8   6ikzdvfsPbdaGpXmeEeaK2  \n9   20uVZbYFKshjrdDHcVy9w9  \n10  5piFhn0sH6i5iGaESBuTJd  \n11  6QewNVIDKdSl8Y3ycuHIei  \n12  7IEBI3QQTQ4U2nTBwQowd7  \n13  5uszSIpdaeca0sLHOS6VSS  \n14  5tVA6TkbaAH9QMITTQRrNv  ",
      "text/html": "<div>\n<style scoped>\n    .dataframe tbody tr th:only-of-type {\n        vertical-align: middle;\n    }\n\n    .dataframe tbody tr th {\n        vertical-align: top;\n    }\n\n    .dataframe thead th {\n        text-align: right;\n    }\n</style>\n<table border=\"1\" class=\"dataframe\">\n  <thead>\n    <tr style=\"text-align: right;\">\n      <th></th>\n      <th>Unnamed: 0</th>\n      <th>search_string</th>\n      <th>track_id</th>\n    </tr>\n  </thead>\n  <tbody>\n    <tr>\n      <th>0</th>\n      <td>0</td>\n      <td>Noah And The Whale 5 Years Time</td>\n      <td>1KlDcHrlDPUJJPmMup3tUp</td>\n    </tr>\n    <tr>\n      <th>1</th>\n      <td>1</td>\n      <td>Noel Gallagher's High Flying Birds AKA... What...</td>\n      <td>5mljJfOTZR3nF4ExmRLTjv</td>\n    </tr>\n    <tr>\n      <th>2</th>\n      <td>2</td>\n      <td>Pearl Jam Alive</td>\n      <td>1L94M3KIu7QluZe63g64rv</td>\n    </tr>\n    <tr>\n      <th>3</th>\n      <td>3</td>\n      <td>Tom Petty And The Heartbreakers American Girl</td>\n      <td>7MRyJPksH3G2cXHN8UKYzP</td>\n    </tr>\n    <tr>\n      <th>4</th>\n      <td>4</td>\n      <td>Bruce Springsteen Atlantic City</td>\n      <td>1Vp8U39YNsDfd6yVuaUq12</td>\n    </tr>\n    <tr>\n      <th>5</th>\n      <td>5</td>\n      <td>Madness Baggy Trousers</td>\n      <td>3Sbnhrpec0ULbeWBsA6GS6</td>\n    </tr>\n    <tr>\n      <th>6</th>\n      <td>6</td>\n      <td>Pearl Jam Black</td>\n      <td>5Xak5fmy089t0FYmh3VJiY</td>\n    </tr>\n    <tr>\n      <th>7</th>\n      <td>7</td>\n      <td>Bruce Springsteen Born to Run</td>\n      <td>6hTcuIQa0sxrrByu9wTD7s</td>\n    </tr>\n    <tr>\n      <th>8</th>\n      <td>8</td>\n      <td>Spector Chevy Thunder</td>\n      <td>6ikzdvfsPbdaGpXmeEeaK2</td>\n    </tr>\n    <tr>\n      <th>9</th>\n      <td>9</td>\n      <td>Miles Kane Come Closer</td>\n      <td>20uVZbYFKshjrdDHcVy9w9</td>\n    </tr>\n    <tr>\n      <th>10</th>\n      <td>10</td>\n      <td>Bruce Springsteen Death To My Hometown</td>\n      <td>5piFhn0sH6i5iGaESBuTJd</td>\n    </tr>\n    <tr>\n      <th>11</th>\n      <td>11</td>\n      <td>Pearl Jam Even Flow</td>\n      <td>6QewNVIDKdSl8Y3ycuHIei</td>\n    </tr>\n    <tr>\n      <th>12</th>\n      <td>12</td>\n      <td>Noel Gallagher's High Flying Birds Everybody's...</td>\n      <td>7IEBI3QQTQ4U2nTBwQowd7</td>\n    </tr>\n    <tr>\n      <th>13</th>\n      <td>13</td>\n      <td>Miles Kane First of My Kind</td>\n      <td>5uszSIpdaeca0sLHOS6VSS</td>\n    </tr>\n    <tr>\n      <th>14</th>\n      <td>14</td>\n      <td>Tom Petty Free Fallin'</td>\n      <td>5tVA6TkbaAH9QMITTQRrNv</td>\n    </tr>\n  </tbody>\n</table>\n</div>"
     },
     "metadata": {},
     "execution_count": 6
    }
   ],
   "source": [
    "#testing\n",
    "non_duplicate_track_id = pd.read_csv('../../track_ids_csv/non_duplicate_track_id.csv')\n",
    "non_duplicate_track_id.head(15)"
   ]
  },
  {
   "cell_type": "code",
   "execution_count": 480,
   "metadata": {},
   "outputs": [
    {
     "output_type": "execute_result",
     "data": {
      "text/plain": "   danceability  energy  key  loudness  mode  speechiness  acousticness  \\\n0         0.803   0.548    0    -7.103     1       0.1200      0.351000   \n1         0.447   0.927    6    -3.300     0       0.0508      0.000297   \n2         0.284   0.875   11    -6.069     0       0.0422      0.007520   \n3         0.550   0.824    2    -5.988     1       0.0334      0.448000   \n4         0.475   0.429    4   -10.577     1       0.0367      0.311000   \n\n   instrumentalness  liveness  valence    tempo            type  \\\n0          0.000000    0.0953    0.750  121.942  audio_features   \n1          0.362000    0.0972    0.104  119.034  audio_features   \n2          0.000461    0.4020    0.595   75.009  audio_features   \n3          0.000127    0.3660    0.777  114.512  audio_features   \n4          0.000000    0.3760    0.340  108.034  audio_features   \n\n                       id                                   uri  \\\n0  1KlDcHrlDPUJJPmMup3tUp  spotify:track:1KlDcHrlDPUJJPmMup3tUp   \n1  5mljJfOTZR3nF4ExmRLTjv  spotify:track:5mljJfOTZR3nF4ExmRLTjv   \n2  1L94M3KIu7QluZe63g64rv  spotify:track:1L94M3KIu7QluZe63g64rv   \n3  7MRyJPksH3G2cXHN8UKYzP  spotify:track:7MRyJPksH3G2cXHN8UKYzP   \n4  1Vp8U39YNsDfd6yVuaUq12  spotify:track:1Vp8U39YNsDfd6yVuaUq12   \n\n                                          track_href  \\\n0  https://api.spotify.com/v1/tracks/1KlDcHrlDPUJ...   \n1  https://api.spotify.com/v1/tracks/5mljJfOTZR3n...   \n2  https://api.spotify.com/v1/tracks/1L94M3KIu7Ql...   \n3  https://api.spotify.com/v1/tracks/7MRyJPksH3G2...   \n4  https://api.spotify.com/v1/tracks/1Vp8U39YNsDf...   \n\n                                        analysis_url  duration_ms  \\\n0  https://api.spotify.com/v1/audio-analysis/1KlD...       214920   \n1  https://api.spotify.com/v1/audio-analysis/5mlj...       264480   \n2  https://api.spotify.com/v1/audio-analysis/1L94...       340907   \n3  https://api.spotify.com/v1/audio-analysis/7MRy...       214733   \n4  https://api.spotify.com/v1/audio-analysis/1Vp8...       236653   \n\n   time_signature  \n0               4  \n1               4  \n2               4  \n3               4  \n4               4  ",
      "text/html": "<div>\n<style scoped>\n    .dataframe tbody tr th:only-of-type {\n        vertical-align: middle;\n    }\n\n    .dataframe tbody tr th {\n        vertical-align: top;\n    }\n\n    .dataframe thead th {\n        text-align: right;\n    }\n</style>\n<table border=\"1\" class=\"dataframe\">\n  <thead>\n    <tr style=\"text-align: right;\">\n      <th></th>\n      <th>danceability</th>\n      <th>energy</th>\n      <th>key</th>\n      <th>loudness</th>\n      <th>mode</th>\n      <th>speechiness</th>\n      <th>acousticness</th>\n      <th>instrumentalness</th>\n      <th>liveness</th>\n      <th>valence</th>\n      <th>tempo</th>\n      <th>type</th>\n      <th>id</th>\n      <th>uri</th>\n      <th>track_href</th>\n      <th>analysis_url</th>\n      <th>duration_ms</th>\n      <th>time_signature</th>\n    </tr>\n  </thead>\n  <tbody>\n    <tr>\n      <th>0</th>\n      <td>0.803</td>\n      <td>0.548</td>\n      <td>0</td>\n      <td>-7.103</td>\n      <td>1</td>\n      <td>0.1200</td>\n      <td>0.351000</td>\n      <td>0.000000</td>\n      <td>0.0953</td>\n      <td>0.750</td>\n      <td>121.942</td>\n      <td>audio_features</td>\n      <td>1KlDcHrlDPUJJPmMup3tUp</td>\n      <td>spotify:track:1KlDcHrlDPUJJPmMup3tUp</td>\n      <td>https://api.spotify.com/v1/tracks/1KlDcHrlDPUJ...</td>\n      <td>https://api.spotify.com/v1/audio-analysis/1KlD...</td>\n      <td>214920</td>\n      <td>4</td>\n    </tr>\n    <tr>\n      <th>1</th>\n      <td>0.447</td>\n      <td>0.927</td>\n      <td>6</td>\n      <td>-3.300</td>\n      <td>0</td>\n      <td>0.0508</td>\n      <td>0.000297</td>\n      <td>0.362000</td>\n      <td>0.0972</td>\n      <td>0.104</td>\n      <td>119.034</td>\n      <td>audio_features</td>\n      <td>5mljJfOTZR3nF4ExmRLTjv</td>\n      <td>spotify:track:5mljJfOTZR3nF4ExmRLTjv</td>\n      <td>https://api.spotify.com/v1/tracks/5mljJfOTZR3n...</td>\n      <td>https://api.spotify.com/v1/audio-analysis/5mlj...</td>\n      <td>264480</td>\n      <td>4</td>\n    </tr>\n    <tr>\n      <th>2</th>\n      <td>0.284</td>\n      <td>0.875</td>\n      <td>11</td>\n      <td>-6.069</td>\n      <td>0</td>\n      <td>0.0422</td>\n      <td>0.007520</td>\n      <td>0.000461</td>\n      <td>0.4020</td>\n      <td>0.595</td>\n      <td>75.009</td>\n      <td>audio_features</td>\n      <td>1L94M3KIu7QluZe63g64rv</td>\n      <td>spotify:track:1L94M3KIu7QluZe63g64rv</td>\n      <td>https://api.spotify.com/v1/tracks/1L94M3KIu7Ql...</td>\n      <td>https://api.spotify.com/v1/audio-analysis/1L94...</td>\n      <td>340907</td>\n      <td>4</td>\n    </tr>\n    <tr>\n      <th>3</th>\n      <td>0.550</td>\n      <td>0.824</td>\n      <td>2</td>\n      <td>-5.988</td>\n      <td>1</td>\n      <td>0.0334</td>\n      <td>0.448000</td>\n      <td>0.000127</td>\n      <td>0.3660</td>\n      <td>0.777</td>\n      <td>114.512</td>\n      <td>audio_features</td>\n      <td>7MRyJPksH3G2cXHN8UKYzP</td>\n      <td>spotify:track:7MRyJPksH3G2cXHN8UKYzP</td>\n      <td>https://api.spotify.com/v1/tracks/7MRyJPksH3G2...</td>\n      <td>https://api.spotify.com/v1/audio-analysis/7MRy...</td>\n      <td>214733</td>\n      <td>4</td>\n    </tr>\n    <tr>\n      <th>4</th>\n      <td>0.475</td>\n      <td>0.429</td>\n      <td>4</td>\n      <td>-10.577</td>\n      <td>1</td>\n      <td>0.0367</td>\n      <td>0.311000</td>\n      <td>0.000000</td>\n      <td>0.3760</td>\n      <td>0.340</td>\n      <td>108.034</td>\n      <td>audio_features</td>\n      <td>1Vp8U39YNsDfd6yVuaUq12</td>\n      <td>spotify:track:1Vp8U39YNsDfd6yVuaUq12</td>\n      <td>https://api.spotify.com/v1/tracks/1Vp8U39YNsDf...</td>\n      <td>https://api.spotify.com/v1/audio-analysis/1Vp8...</td>\n      <td>236653</td>\n      <td>4</td>\n    </tr>\n  </tbody>\n</table>\n</div>"
     },
     "metadata": {},
     "execution_count": 480
    }
   ],
   "source": [
    "test_res = []\n",
    "for i in range(0,5):\n",
    "    test_res.append(sp.audio_features(all_tracks.loc[i,'track_id'])[0])\n",
    "test_res= list(filter(None, test_res))\n",
    "f_df = pd.DataFrame(test_res)\n",
    "f_df"
   ]
  },
  {
   "cell_type": "code",
   "execution_count": 474,
   "metadata": {},
   "outputs": [
    {
     "output_type": "stream",
     "name": "stdout",
     "text": "0.803\n0.548\n0\n-7.103\n1\n0.12\n0.351\n0\n0.0953\n0.75\n121.942\naudio_features\n1KlDcHrlDPUJJPmMup3tUp\nspotify:track:1KlDcHrlDPUJJPmMup3tUp\nhttps://api.spotify.com/v1/tracks/1KlDcHrlDPUJJPmMup3tUp\nhttps://api.spotify.com/v1/audio-analysis/1KlDcHrlDPUJJPmMup3tUp\n214920\n4\n"
    }
   ],
   "source": [
    "for i in f[0].values():\n",
    "    print(i)"
   ]
  },
  {
   "cell_type": "code",
   "execution_count": 498,
   "metadata": {},
   "outputs": [
    {
     "output_type": "stream",
     "name": "stdout",
     "text": "0 (0.803, 0.548, 0, -7.103, 1, 0.12, 0.351, 0, 0.0953, 0.75, 121.942, 'audio_features', '1KlDcHrlDPUJJPmMup3tUp', 'spotify:track:1KlDcHrlDPUJJPmMup3tUp', 'https://api.spotify.com/v1/tracks/1KlDcHrlDPUJJPmMup3tUp', 'https://api.spotify.com/v1/audio-analysis/1KlDcHrlDPUJJPmMup3tUp', 214920, 4)\n\n\n1 (0.447, 0.927, 6, -3.3, 0, 0.0508, 0.000297, 0.362, 0.0972, 0.104, 119.034, 'audio_features', '5mljJfOTZR3nF4ExmRLTjv', 'spotify:track:5mljJfOTZR3nF4ExmRLTjv', 'https://api.spotify.com/v1/tracks/5mljJfOTZR3nF4ExmRLTjv', 'https://api.spotify.com/v1/audio-analysis/5mljJfOTZR3nF4ExmRLTjv', 264480, 4)\n\n\n2 (0.284, 0.875, 11, -6.069, 0, 0.0422, 0.00752, 0.000461, 0.402, 0.595, 75.009, 'audio_features', '1L94M3KIu7QluZe63g64rv', 'spotify:track:1L94M3KIu7QluZe63g64rv', 'https://api.spotify.com/v1/tracks/1L94M3KIu7QluZe63g64rv', 'https://api.spotify.com/v1/audio-analysis/1L94M3KIu7QluZe63g64rv', 340907, 4)\n\n\n3 (0.55, 0.824, 2, -5.988, 1, 0.0334, 0.448, 0.000127, 0.366, 0.777, 114.512, 'audio_features', '7MRyJPksH3G2cXHN8UKYzP', 'spotify:track:7MRyJPksH3G2cXHN8UKYzP', 'https://api.spotify.com/v1/tracks/7MRyJPksH3G2cXHN8UKYzP', 'https://api.spotify.com/v1/audio-analysis/7MRyJPksH3G2cXHN8UKYzP', 214733, 4)\n\n\n4 (0.475, 0.429, 4, -10.577, 1, 0.0367, 0.311, 0, 0.376, 0.34, 108.034, 'audio_features', '1Vp8U39YNsDfd6yVuaUq12', 'spotify:track:1Vp8U39YNsDfd6yVuaUq12', 'https://api.spotify.com/v1/tracks/1Vp8U39YNsDfd6yVuaUq12', 'https://api.spotify.com/v1/audio-analysis/1Vp8U39YNsDfd6yVuaUq12', 236653, 4)\n\n\n"
    }
   ],
   "source": [
    "for i, res in enumerate(test_res):\n",
    "    values = tuple(res.values())\n",
    "    print(i, values)\n",
    "    print('\\n')"
   ]
  },
  {
   "cell_type": "code",
   "execution_count": 463,
   "metadata": {},
   "outputs": [
    {
     "output_type": "execute_result",
     "data": {
      "text/plain": "dict_keys(['danceability', 'energy', 'key', 'loudness', 'mode', 'speechiness', 'acousticness', 'instrumentalness', 'liveness', 'valence', 'tempo', 'type', 'id', 'uri', 'track_href', 'analysis_url', 'duration_ms', 'time_signature'])"
     },
     "metadata": {},
     "execution_count": 463
    }
   ],
   "source": [
    "sp.audio_features(all_tracks.loc[0,'track_id'])[0].keys()"
   ]
  },
  {
   "cell_type": "code",
   "execution_count": 11,
   "metadata": {},
   "outputs": [
    {
     "output_type": "execute_result",
     "data": {
      "text/plain": "(951163, 3)"
     },
     "metadata": {},
     "execution_count": 11
    }
   ],
   "source": [
    "all_tracks = pd.read_csv('../../all_song_ids.csv')\n",
    "all_tracks.shape"
   ]
  },
  {
   "cell_type": "code",
   "execution_count": 22,
   "metadata": {},
   "outputs": [],
   "source": [
    "def get_song_features(id_,list_=None):\n",
    "    '''\n",
    "    Get song features for each song in a list\n",
    "    '''\n",
    "    try:\n",
    "        list_.append(sp.audio_features(id_)[0])\n",
    "    except:\n",
    "        list_.append(id_)\n",
    "\n",
    "def get_track_features_to_db(offset):\n",
    "    #create db\n",
    "    db = 'Spotify.db'\n",
    "    create_table_query = \"\"\"\n",
    "                    CREATE TABLE IF NOT EXISTS song_features (\n",
    "                        rowid INTEGER PRIMARY KEY AUTOINCREMENT,\n",
    "                        danceability REAL,\n",
    "                        energy REAL,\n",
    "                        key INTEGER,\n",
    "                        loudness REAL,\n",
    "                        mode INTEGER,\n",
    "                        speechiness REAL,\n",
    "                        acousticness REAL,\n",
    "                        instrumentalness REAL,\n",
    "                        liveness REAL,\n",
    "                        valence REAL,\n",
    "                        tempo REAL,\n",
    "                        type TEXT,\n",
    "                        id TEXT,\n",
    "                        uri TEXT,\n",
    "                        track_href TEXT,\n",
    "                        analysis_url TEXT,\n",
    "                        duration_ms INTEGER,\n",
    "                        time_signature INTEGER\n",
    "                    );\n",
    "                    \"\"\"\n",
    "    ## sql command for inserting values\n",
    "    insert_value_query = 'INSERT INTO song_features (danceability, energy, key, loudness, mode, speechiness, acousticness, instrumentalness, liveness, valence, tempo, type, id, uri, track_href, analysis_url, duration_ms, time_signature) VALUES (?,?,?,?,?,?,?,?,?,?,?,?,?,?,?,?,?,?);'\n",
    "\n",
    "    # print(f'{offset*1000}-{offset*1000+1000}')\n",
    "    # track_ids = all_tracks['track_id'][offset*1000:offset*1000+1000].tolist()\n",
    "\n",
    "    track_ids = all_tracks['track_id'][951000:].tolist()\n",
    "    results = []\n",
    "    \n",
    "    \n",
    "    # just going through the spotify object and retriving data.     \n",
    "    for i, track_id in tqdm(enumerate(track_ids)):\n",
    "        if i % 50 == 0:\n",
    "            print(i)\n",
    "        try: \n",
    "            get_song_features(track_id, results)\n",
    "        except Exception as err:\n",
    "            print(i, err)\n",
    "    \n",
    "    print('track id - ', len(results))\n",
    "\n",
    "    #creating a connection with database\n",
    "    conn = create_connection(db)\n",
    "    create_table(conn, create_table_query)\n",
    "    print('Create table')\n",
    "    err = 0\n",
    "    # inserting values from the list\n",
    "    for result in results:\n",
    "        try:\n",
    "            values = tuple(result.values())\n",
    "            insert_values(conn, insert_value_query, values)\n",
    "            conn.commit()\n",
    "        except:\n",
    "            err += 1\n",
    "    \n",
    "    conn.close()\n",
    "    print('Finish insert values to the table - ', err)"
   ]
  },
  {
   "cell_type": "code",
   "execution_count": 23,
   "metadata": {},
   "outputs": [
    {
     "output_type": "display_data",
     "data": {
      "text/plain": "HBox(children=(FloatProgress(value=1.0, bar_style='info', max=1.0), HTML(value='')))",
      "application/vnd.jupyter.widget-view+json": {
       "version_major": 2,
       "version_minor": 0,
       "model_id": "f68aa71c0dbc42b290e47ead819c89bc"
      }
     },
     "metadata": {}
    },
    {
     "output_type": "stream",
     "name": "stdout",
     "text": "0\n50\n100\n150\n\ntrack id -  163\nCreate table\nFinish insert values to the table -  46\n"
    }
   ],
   "source": [
    "# for offset in range(0):\n",
    "get_track_features_to_db(0)"
   ]
  },
  {
   "cell_type": "code",
   "execution_count": null,
   "metadata": {},
   "outputs": [],
   "source": []
  }
 ],
 "metadata": {
  "kernelspec": {
   "display_name": "Python 3",
   "language": "python",
   "name": "python3"
  },
  "language_info": {
   "codemirror_mode": {
    "name": "ipython",
    "version": 3
   },
   "file_extension": ".py",
   "mimetype": "text/x-python",
   "name": "python",
   "nbconvert_exporter": "python",
   "pygments_lexer": "ipython3",
   "version": "3.8.2-final"
  }
 },
 "nbformat": 4,
 "nbformat_minor": 4
}